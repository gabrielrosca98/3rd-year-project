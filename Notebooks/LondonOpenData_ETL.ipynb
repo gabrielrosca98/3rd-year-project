{
 "cells": [
  {
   "cell_type": "code",
   "execution_count": 2,
   "metadata": {},
   "outputs": [],
   "source": [
    "import os\n",
    "import tqdm\n",
    "from tqdm import trange, tqdm_notebook\n",
    "import pandas as pd\n",
    "import csv\n",
    "import urllib3\n",
    "import requests\n",
    "import urllib.request\n",
    "import numpy as np\n",
    "import time\n",
    "from bs4 import BeautifulSoup\n",
    "import re\n",
    "from IPython.display import Markdown, display\n",
    "import urllib3\n",
    "import boto3\n",
    "import s3fs\n",
    "from urllib3 import PoolManager\n",
    "from tqdm import tqdm_notebook as tqdm\n",
    "import ipywidgets as widgets\n",
    "from ipywidgets import TwoByTwoLayout\n",
    "from ipywidgets import interact, interactive, fixed, interact_manual\n",
    "from ipywidgets import VBox, HBox, Label, Box\n",
    "from ipywidgets import Button, Layout\n",
    "import shutil\n",
    "from os import path\n",
    "\n",
    "urllib3.disable_warnings()\n",
    "manager = PoolManager(10)\n",
    "def printmd(string):\n",
    "    display(Markdown(string))\n",
    "\n",
    "#Set the display max output\n",
    "pd.options.display.max_colwidth = 100\n",
    "\n",
    "#Create connection to AWS S3\n",
    "s3_client = boto3.client('s3')\n",
    "\n",
    "#Set the base url\n",
    "url_base = \"https://data.london.gov.uk/dataset\"\n",
    "\n",
    "#Beautiful soup part\n",
    "response = requests.get(url_base)\n",
    "soup_main = BeautifulSoup(response.text, \"html.parser\")\n",
    "dataframe_website_topic = pd.DataFrame(columns=['Topic', 'Topic_Count', 'Topic_href'])\n",
    "dataframe_website_format = pd.DataFrame(columns=['Format', 'Format_Count', 'Format_href'])"
   ]
  },
  {
   "cell_type": "markdown",
   "metadata": {},
   "source": [
    "# Method to get the available values and frequencies for the requested parameter.\n",
    "\n",
    "Method parses the given URL page and stores all the values together with their count."
   ]
  },
  {
   "cell_type": "code",
   "execution_count": 3,
   "metadata": {},
   "outputs": [],
   "source": [
    "def get_subject_count(req_subject_url):\n",
    "    count_array = []\n",
    "    subjects_array = []\n",
    "    href_array = []\n",
    "    for subject in req_subject_url:\n",
    "        string = (str(subject.find(\"span\", {\"class\":\"dp-facet__count\"}).text))\n",
    "        value = re.findall(r'\\((.*?)\\)', string)[0]\n",
    "        count_array.append(int(value))\n",
    "        subject_string = subject.find(text=True)\n",
    "        subject_string_start = re.search(r'\\w', subject_string)\n",
    "        subject_string_end = subject_string.rfind('\\n')\n",
    "        subject_string = subject_string[int(str(subject_string_start.start(0))): int(str(subject_string_end))]\n",
    "        subjects_array.append(subject_string)\n",
    "        href_array.append(subject['href'][subject['href'].find('=') + 1:])\n",
    "    return subjects_array, count_array, href_array"
   ]
  },
  {
   "cell_type": "markdown",
   "metadata": {},
   "source": [
    "# Get all available topics with their count from the website"
   ]
  },
  {
   "cell_type": "markdown",
   "metadata": {},
   "source": [
    "Find all the tags that correspond to a topic available on the website using BeatufiulSoup methods \"find\" and \"find_all\".  "
   ]
  },
  {
   "cell_type": "code",
   "execution_count": 4,
   "metadata": {},
   "outputs": [],
   "source": [
    "url_topics = soup_main.find(\"div\", {\"class\":\"dp-facet dp-facet--topics\"})\n",
    "url_topics = url_topics.find_all(\"a\", {\"class\": [\"dp-facet__link--hasimg dp-facet__link dp-facet__link--facet-transition\", \"dp-facet__link--hasimg dp-facet__link dp-facet__link--facet-before-transition dp-facet__link--facet-transition\"]},recursive=False)"
   ]
  },
  {
   "cell_type": "markdown",
   "metadata": {},
   "source": [
    "## Store the topics with their count\n",
    "\n",
    "Create a DataFrame to store the topics and their count."
   ]
  },
  {
   "cell_type": "code",
   "execution_count": 5,
   "metadata": {},
   "outputs": [
    {
     "data": {
      "text/markdown": [
       "## Available topics on the website data.london.gov.uk:\n"
      ],
      "text/plain": [
       "<IPython.core.display.Markdown object>"
      ]
     },
     "metadata": {},
     "output_type": "display_data"
    },
    {
     "data": {
      "text/html": [
       "<div>\n",
       "<style scoped>\n",
       "    .dataframe tbody tr th:only-of-type {\n",
       "        vertical-align: middle;\n",
       "    }\n",
       "\n",
       "    .dataframe tbody tr th {\n",
       "        vertical-align: top;\n",
       "    }\n",
       "\n",
       "    .dataframe thead th {\n",
       "        text-align: right;\n",
       "    }\n",
       "</style>\n",
       "<table border=\"1\" class=\"dataframe\">\n",
       "  <thead>\n",
       "    <tr style=\"text-align: right;\">\n",
       "      <th></th>\n",
       "      <th>Topic</th>\n",
       "      <th>Topic_Count</th>\n",
       "      <th>Topic_href</th>\n",
       "    </tr>\n",
       "  </thead>\n",
       "  <tbody>\n",
       "    <tr>\n",
       "      <td>0</td>\n",
       "      <td>Demographics</td>\n",
       "      <td>165</td>\n",
       "      <td>248ec7c0-025e-4b5a-925d-0fccdd1f9e96</td>\n",
       "    </tr>\n",
       "    <tr>\n",
       "      <td>1</td>\n",
       "      <td>Transparency</td>\n",
       "      <td>147</td>\n",
       "      <td>1d5852ed-0315-4472-927a-3d1bdaa4f630</td>\n",
       "    </tr>\n",
       "    <tr>\n",
       "      <td>2</td>\n",
       "      <td>Environment</td>\n",
       "      <td>138</td>\n",
       "      <td>fb70a4e6-311c-41c1-8429-3fe27ebc928a</td>\n",
       "    </tr>\n",
       "    <tr>\n",
       "      <td>3</td>\n",
       "      <td>Employment and Skills</td>\n",
       "      <td>136</td>\n",
       "      <td>50f66ade-4ef9-4814-b2cb-94e5b316d7f6</td>\n",
       "    </tr>\n",
       "    <tr>\n",
       "      <td>4</td>\n",
       "      <td>Business and Economy</td>\n",
       "      <td>108</td>\n",
       "      <td>737cc837-707b-42a9-8f58-c70f35a8eb28</td>\n",
       "    </tr>\n",
       "    <tr>\n",
       "      <td>5</td>\n",
       "      <td>Housing</td>\n",
       "      <td>106</td>\n",
       "      <td>67b1cea4-806d-4b63-90d7-155cf3ac3c03</td>\n",
       "    </tr>\n",
       "    <tr>\n",
       "      <td>6</td>\n",
       "      <td>Planning</td>\n",
       "      <td>104</td>\n",
       "      <td>b781eefa-ff44-44b8-be63-fc3acd37547c</td>\n",
       "    </tr>\n",
       "    <tr>\n",
       "      <td>7</td>\n",
       "      <td>Health</td>\n",
       "      <td>94</td>\n",
       "      <td>4199df0d-d454-4373-b710-aeed29098a59</td>\n",
       "    </tr>\n",
       "    <tr>\n",
       "      <td>8</td>\n",
       "      <td>Transport</td>\n",
       "      <td>89</td>\n",
       "      <td>b35ef9b1-8875-4f7b-8aca-8373cff77d17</td>\n",
       "    </tr>\n",
       "    <tr>\n",
       "      <td>9</td>\n",
       "      <td>Education</td>\n",
       "      <td>69</td>\n",
       "      <td>2c4d2275-67a6-401b-89ca-4ed62556b901</td>\n",
       "    </tr>\n",
       "    <tr>\n",
       "      <td>10</td>\n",
       "      <td>Crime and Community Safety</td>\n",
       "      <td>66</td>\n",
       "      <td>45f26a78-96f6-44e0-846f-701c623f0efd</td>\n",
       "    </tr>\n",
       "    <tr>\n",
       "      <td>11</td>\n",
       "      <td>Young People</td>\n",
       "      <td>56</td>\n",
       "      <td>c16c3149-16d2-435f-a326-8eb3a613dadf</td>\n",
       "    </tr>\n",
       "    <tr>\n",
       "      <td>12</td>\n",
       "      <td>Art and Culture</td>\n",
       "      <td>27</td>\n",
       "      <td>66a92e74-4325-4b62-a0eb-5d851d43a90b</td>\n",
       "    </tr>\n",
       "    <tr>\n",
       "      <td>13</td>\n",
       "      <td>Sport</td>\n",
       "      <td>26</td>\n",
       "      <td>6bfb7207-24fd-492f-b0e5-99a566d716bd</td>\n",
       "    </tr>\n",
       "    <tr>\n",
       "      <td>14</td>\n",
       "      <td>Income, Poverty and Welfare</td>\n",
       "      <td>24</td>\n",
       "      <td>2b08e7dd-8abe-4e10-96e0-899d344639fd</td>\n",
       "    </tr>\n",
       "    <tr>\n",
       "      <td>15</td>\n",
       "      <td>Championing London</td>\n",
       "      <td>16</td>\n",
       "      <td>ade11456-53d3-4524-86f1-9d35b14b9318</td>\n",
       "    </tr>\n",
       "    <tr>\n",
       "      <td>16</td>\n",
       "      <td>London 2012</td>\n",
       "      <td>5</td>\n",
       "      <td>710079a7-7852-46a4-a5d3-d17586a6512f</td>\n",
       "    </tr>\n",
       "    <tr>\n",
       "      <td>17</td>\n",
       "      <td>COVID-19 Data and Analysis</td>\n",
       "      <td>4</td>\n",
       "      <td>80792f17-63f9-4f65-b33b-5e030e7f3c18</td>\n",
       "    </tr>\n",
       "  </tbody>\n",
       "</table>\n",
       "</div>"
      ],
      "text/plain": [
       "                          Topic  Topic_Count  \\\n",
       "0                  Demographics          165   \n",
       "1                  Transparency          147   \n",
       "2                   Environment          138   \n",
       "3         Employment and Skills          136   \n",
       "4          Business and Economy          108   \n",
       "5                       Housing          106   \n",
       "6                      Planning          104   \n",
       "7                        Health           94   \n",
       "8                     Transport           89   \n",
       "9                     Education           69   \n",
       "10   Crime and Community Safety           66   \n",
       "11                 Young People           56   \n",
       "12              Art and Culture           27   \n",
       "13                        Sport           26   \n",
       "14  Income, Poverty and Welfare           24   \n",
       "15           Championing London           16   \n",
       "16                  London 2012            5   \n",
       "17   COVID-19 Data and Analysis            4   \n",
       "\n",
       "                              Topic_href  \n",
       "0   248ec7c0-025e-4b5a-925d-0fccdd1f9e96  \n",
       "1   1d5852ed-0315-4472-927a-3d1bdaa4f630  \n",
       "2   fb70a4e6-311c-41c1-8429-3fe27ebc928a  \n",
       "3   50f66ade-4ef9-4814-b2cb-94e5b316d7f6  \n",
       "4   737cc837-707b-42a9-8f58-c70f35a8eb28  \n",
       "5   67b1cea4-806d-4b63-90d7-155cf3ac3c03  \n",
       "6   b781eefa-ff44-44b8-be63-fc3acd37547c  \n",
       "7   4199df0d-d454-4373-b710-aeed29098a59  \n",
       "8   b35ef9b1-8875-4f7b-8aca-8373cff77d17  \n",
       "9   2c4d2275-67a6-401b-89ca-4ed62556b901  \n",
       "10  45f26a78-96f6-44e0-846f-701c623f0efd  \n",
       "11  c16c3149-16d2-435f-a326-8eb3a613dadf  \n",
       "12  66a92e74-4325-4b62-a0eb-5d851d43a90b  \n",
       "13  6bfb7207-24fd-492f-b0e5-99a566d716bd  \n",
       "14  2b08e7dd-8abe-4e10-96e0-899d344639fd  \n",
       "15  ade11456-53d3-4524-86f1-9d35b14b9318  \n",
       "16  710079a7-7852-46a4-a5d3-d17586a6512f  \n",
       "17  80792f17-63f9-4f65-b33b-5e030e7f3c18  "
      ]
     },
     "execution_count": 5,
     "metadata": {},
     "output_type": "execute_result"
    }
   ],
   "source": [
    "dataframe_website_topic['Topic'], dataframe_website_topic['Topic_Count'], dataframe_website_topic['Topic_href'] = get_subject_count(url_topics)                   \n",
    "printmd(\"## Available topics on the website data.london.gov.uk:\\n\")\n",
    "dataframe_website_topic"
   ]
  },
  {
   "cell_type": "markdown",
   "metadata": {},
   "source": [
    "# Get all available format on the website"
   ]
  },
  {
   "cell_type": "markdown",
   "metadata": {},
   "source": [
    "Find all the tags that correspond to a topic available on the website using BeatufiulSoup methods \"find\" and \"find_all\".  "
   ]
  },
  {
   "cell_type": "code",
   "execution_count": 6,
   "metadata": {},
   "outputs": [],
   "source": [
    "url_format = soup_main.find(\"div\", {\"class\":\"dp-facet dp-facet--format\"})\n",
    "url_format = url_format.find_all(\"a\", {\"class\": [\"dp-facet__link--hasimg dp-facet__link dp-facet__link--facet-transition\", \"dp-facet__link--hasimg dp-facet__link dp-facet__link--facet-before-transition dp-facet__link--facet-transition\"]},recursive=False)"
   ]
  },
  {
   "cell_type": "markdown",
   "metadata": {},
   "source": [
    "## Store the formats with their count"
   ]
  },
  {
   "cell_type": "code",
   "execution_count": 7,
   "metadata": {},
   "outputs": [
    {
     "data": {
      "text/markdown": [
       "## Available formats on the website data.london.gov.uk:\n"
      ],
      "text/plain": [
       "<IPython.core.display.Markdown object>"
      ]
     },
     "metadata": {},
     "output_type": "display_data"
    },
    {
     "data": {
      "text/html": [
       "<div>\n",
       "<style scoped>\n",
       "    .dataframe tbody tr th:only-of-type {\n",
       "        vertical-align: middle;\n",
       "    }\n",
       "\n",
       "    .dataframe tbody tr th {\n",
       "        vertical-align: top;\n",
       "    }\n",
       "\n",
       "    .dataframe thead th {\n",
       "        text-align: right;\n",
       "    }\n",
       "</style>\n",
       "<table border=\"1\" class=\"dataframe\">\n",
       "  <thead>\n",
       "    <tr style=\"text-align: right;\">\n",
       "      <th></th>\n",
       "      <th>Format</th>\n",
       "      <th>Format_Count</th>\n",
       "      <th>Format_href</th>\n",
       "    </tr>\n",
       "  </thead>\n",
       "  <tbody>\n",
       "    <tr>\n",
       "      <td>0</td>\n",
       "      <td>Spreadsheet</td>\n",
       "      <td>564</td>\n",
       "      <td>spreadsheet</td>\n",
       "    </tr>\n",
       "    <tr>\n",
       "      <td>1</td>\n",
       "      <td>CSV File</td>\n",
       "      <td>207</td>\n",
       "      <td>csv</td>\n",
       "    </tr>\n",
       "    <tr>\n",
       "      <td>2</td>\n",
       "      <td>PDF File</td>\n",
       "      <td>196</td>\n",
       "      <td>pdf</td>\n",
       "    </tr>\n",
       "    <tr>\n",
       "      <td>3</td>\n",
       "      <td>Website</td>\n",
       "      <td>122</td>\n",
       "      <td>html</td>\n",
       "    </tr>\n",
       "    <tr>\n",
       "      <td>4</td>\n",
       "      <td>ZIP File</td>\n",
       "      <td>78</td>\n",
       "      <td>zip</td>\n",
       "    </tr>\n",
       "    <tr>\n",
       "      <td>5</td>\n",
       "      <td>API Endpoint</td>\n",
       "      <td>24</td>\n",
       "      <td>api</td>\n",
       "    </tr>\n",
       "    <tr>\n",
       "      <td>6</td>\n",
       "      <td>GeoPackage</td>\n",
       "      <td>24</td>\n",
       "      <td>geopackage</td>\n",
       "    </tr>\n",
       "    <tr>\n",
       "      <td>7</td>\n",
       "      <td>Shapefile</td>\n",
       "      <td>24</td>\n",
       "      <td>shp</td>\n",
       "    </tr>\n",
       "    <tr>\n",
       "      <td>8</td>\n",
       "      <td>XML File</td>\n",
       "      <td>24</td>\n",
       "      <td>xml</td>\n",
       "    </tr>\n",
       "    <tr>\n",
       "      <td>9</td>\n",
       "      <td>Image</td>\n",
       "      <td>12</td>\n",
       "      <td>image</td>\n",
       "    </tr>\n",
       "    <tr>\n",
       "      <td>10</td>\n",
       "      <td>Document</td>\n",
       "      <td>9</td>\n",
       "      <td>document</td>\n",
       "    </tr>\n",
       "    <tr>\n",
       "      <td>11</td>\n",
       "      <td>JSON File</td>\n",
       "      <td>2</td>\n",
       "      <td>json</td>\n",
       "    </tr>\n",
       "    <tr>\n",
       "      <td>12</td>\n",
       "      <td>bin</td>\n",
       "      <td>1</td>\n",
       "      <td>bin</td>\n",
       "    </tr>\n",
       "    <tr>\n",
       "      <td>13</td>\n",
       "      <td>db</td>\n",
       "      <td>1</td>\n",
       "      <td>db</td>\n",
       "    </tr>\n",
       "    <tr>\n",
       "      <td>14</td>\n",
       "      <td>kml</td>\n",
       "      <td>1</td>\n",
       "      <td>kml</td>\n",
       "    </tr>\n",
       "    <tr>\n",
       "      <td>15</td>\n",
       "      <td>msg</td>\n",
       "      <td>1</td>\n",
       "      <td>msg</td>\n",
       "    </tr>\n",
       "    <tr>\n",
       "      <td>16</td>\n",
       "      <td>Slideshow</td>\n",
       "      <td>1</td>\n",
       "      <td>slideshow</td>\n",
       "    </tr>\n",
       "    <tr>\n",
       "      <td>17</td>\n",
       "      <td>tab</td>\n",
       "      <td>1</td>\n",
       "      <td>tab</td>\n",
       "    </tr>\n",
       "    <tr>\n",
       "      <td>18</td>\n",
       "      <td>tar</td>\n",
       "      <td>1</td>\n",
       "      <td>tar</td>\n",
       "    </tr>\n",
       "    <tr>\n",
       "      <td>19</td>\n",
       "      <td>wav</td>\n",
       "      <td>1</td>\n",
       "      <td>wav</td>\n",
       "    </tr>\n",
       "    <tr>\n",
       "      <td>20</td>\n",
       "      <td>Web Map</td>\n",
       "      <td>1</td>\n",
       "      <td>wms</td>\n",
       "    </tr>\n",
       "    <tr>\n",
       "      <td>21</td>\n",
       "      <td>xlsm</td>\n",
       "      <td>1</td>\n",
       "      <td>xlsm</td>\n",
       "    </tr>\n",
       "  </tbody>\n",
       "</table>\n",
       "</div>"
      ],
      "text/plain": [
       "          Format  Format_Count  Format_href\n",
       "0    Spreadsheet           564  spreadsheet\n",
       "1       CSV File           207          csv\n",
       "2       PDF File           196          pdf\n",
       "3        Website           122         html\n",
       "4       ZIP File            78          zip\n",
       "5   API Endpoint            24          api\n",
       "6     GeoPackage            24   geopackage\n",
       "7      Shapefile            24          shp\n",
       "8       XML File            24          xml\n",
       "9          Image            12        image\n",
       "10      Document             9     document\n",
       "11     JSON File             2         json\n",
       "12           bin             1          bin\n",
       "13            db             1           db\n",
       "14           kml             1          kml\n",
       "15           msg             1          msg\n",
       "16     Slideshow             1    slideshow\n",
       "17           tab             1          tab\n",
       "18           tar             1          tar\n",
       "19           wav             1          wav\n",
       "20       Web Map             1          wms\n",
       "21          xlsm             1         xlsm"
      ]
     },
     "execution_count": 7,
     "metadata": {},
     "output_type": "execute_result"
    }
   ],
   "source": [
    "dataframe_website_format['Format'], dataframe_website_format['Format_Count'], dataframe_website_format['Format_href'] = get_subject_count(url_format)\n",
    "printmd(\"## Available formats on the website data.london.gov.uk:\\n\")\n",
    "dataframe_website_format"
   ]
  },
  {
   "cell_type": "markdown",
   "metadata": {},
   "source": [
    "# Example request URL creation using input from the DataFrame\n",
    "\n",
    "Creating a URL request to retrieve all resources that a using the DataFrames created previously."
   ]
  },
  {
   "cell_type": "code",
   "execution_count": 12,
   "metadata": {},
   "outputs": [
    {
     "name": "stdout",
     "output_type": "stream",
     "text": [
      "0    https://data.london.gov.uk/dataset?topics=248ec7c0-025e-4b5a-925d-0fccdd1f9e96\n",
      "Name: Topic_href, dtype: object\n"
     ]
    }
   ],
   "source": [
    "# Get files from multiple topics/formats\n",
    "url_file = url_base + \"?topics=\" + dataframe_website_topic[dataframe_website_topic['Topic']=='Demographics']['Topic_href']\n",
    "print(url_file)"
   ]
  },
  {
   "cell_type": "markdown",
   "metadata": {},
   "source": [
    "# Create URL request using the provided method and widgets\n",
    "\n",
    "Method to create a request url with the given topics/formats/search query. Select the parameters for your search query."
   ]
  },
  {
   "cell_type": "code",
   "execution_count": 10,
   "metadata": {},
   "outputs": [],
   "source": [
    "def create_url_request(req_topics, req_formats, req_search_query):\n",
    "    url_request = url_base + \"?\"\n",
    "    if req_topics != ():\n",
    "        for topic in req_topics:\n",
    "            index_topic = dataframe_website_topic.index[dataframe_website_topic['Topic'] == topic].tolist()[0]\n",
    "            url_request = url_request + \"topics=\" + dataframe_website_topic.iloc[index_topic]['Topic_href'] + \"&\"\n",
    "    if req_formats != ():\n",
    "        for format in req_formats:\n",
    "            try:\n",
    "                index_format = dataframe_website_format.index[dataframe_website_format['Format'] == format].tolist()[0]\n",
    "                url_request = url_request + \"format=\" + dataframe_website_format.iloc[index_format]['Format_href'] + \"&\"\n",
    "            except IndexError:\n",
    "                print(\"Please enter a valid format!\")\n",
    "                return 0\n",
    "    if req_search_query != ():\n",
    "        url_request = url_request + \"q=\"\n",
    "        for query_term in req_search_query:\n",
    "            url_request = url_request + query_term + \"%20\"\n",
    "    else:\n",
    "        url_request = url_request[:-1]\n",
    "    return url_request"
   ]
  },
  {
   "cell_type": "code",
   "execution_count": 14,
   "metadata": {
    "scrolled": true
   },
   "outputs": [
    {
     "data": {
      "text/markdown": [
       "## Create a search query:"
      ],
      "text/plain": [
       "<IPython.core.display.Markdown object>"
      ]
     },
     "metadata": {},
     "output_type": "display_data"
    },
    {
     "data": {
      "application/vnd.jupyter.widget-view+json": {
       "model_id": "b14a2d35b10740ea8fd7afbaeaf28683",
       "version_major": 2,
       "version_minor": 0
      },
      "text/plain": [
       "HBox(children=(interactive(children=(SelectMultiple(description='Topics:', options=('Demographics', 'Transpare…"
      ]
     },
     "metadata": {},
     "output_type": "display_data"
    }
   ],
   "source": [
    "widget_topic = widgets.SelectMultiple(\n",
    "    options=dataframe_website_topic['Topic'],\n",
    "    rows=10,\n",
    "    description='Topics:',\n",
    "    disabled=False\n",
    ")\n",
    "\n",
    "widget_format = widgets.SelectMultiple(\n",
    "    options=dataframe_website_format['Format'],\n",
    "    rows=10,\n",
    "    description='Formats:',\n",
    "    disabled=False\n",
    ")\n",
    "\n",
    "widget_search_query = widgets.Textarea(\n",
    "    value='',\n",
    "    placeholder='Input your search query',\n",
    "    description='Search:',\n",
    "    disabled=False\n",
    ")\n",
    "\n",
    "topics_arr = list()\n",
    "format_arr = list()\n",
    "search_q = list()\n",
    "def topics(x):\n",
    "    topics_arr.append(x)\n",
    "def formats(x):\n",
    "    format_arr.append(x)\n",
    "def search_query(x):\n",
    "    search_q.append(x)\n",
    "\n",
    "    \n",
    "w1 = interactive(topics,  x=widget_topic)\n",
    "w2 = interactive(formats, x=widget_format)\n",
    "w3 = interactive(search_query, x=widget_search_query)\n",
    "printmd(\"## Create a search query:\")\n",
    "HBox([w1, w2, w3])\n"
   ]
  },
  {
   "cell_type": "markdown",
   "metadata": {},
   "source": [
    "## Generate the search query link"
   ]
  },
  {
   "cell_type": "code",
   "execution_count": 17,
   "metadata": {},
   "outputs": [],
   "source": [
    "# Test the method\n",
    "try:\n",
    "    topics_elements = topics_arr[len(topics_arr) - 1] \n",
    "    format_elements= format_arr[len(format_arr) - 1] \n",
    "    search_elements = search_q[len(search_q) - 1]\n",
    "except IndexError:\n",
    "    pass\n",
    "url_request = create_url_request(req_topics = topics_elements, req_formats= format_elements, req_search_query = search_elements.split())"
   ]
  },
  {
   "cell_type": "markdown",
   "metadata": {},
   "source": [
    "## Print the request URL"
   ]
  },
  {
   "cell_type": "code",
   "execution_count": 18,
   "metadata": {},
   "outputs": [
    {
     "data": {
      "text/markdown": [
       "### The request URL: https://data.london.gov.uk/dataset?topics=67b1cea4-806d-4b63-90d7-155cf3ac3c03&q="
      ],
      "text/plain": [
       "<IPython.core.display.Markdown object>"
      ]
     },
     "metadata": {},
     "output_type": "display_data"
    }
   ],
   "source": [
    "printmd(\"### The request URL: \" + url_request)"
   ]
  },
  {
   "cell_type": "markdown",
   "metadata": {},
   "source": [
    "# Retrieve the number of pages for the generated search query"
   ]
  },
  {
   "cell_type": "markdown",
   "metadata": {},
   "source": [
    "# Method to get the number of pages"
   ]
  },
  {
   "cell_type": "code",
   "execution_count": 22,
   "metadata": {},
   "outputs": [],
   "source": [
    "def get_number_pages_result(req_url):\n",
    "    response = requests.get(req_url)\n",
    "    req_soup_main = BeautifulSoup(response.text, \"html.parser\")\n",
    "    pages_links = req_soup_main.find_all(\"li\", {\"class\": \"dp-search__pagelink\"})\n",
    "    has_results = req_soup_main.find(\"div\", {\"class\" : \"dp-search__no-datasets\"})\n",
    "    if has_results != None:\n",
    "        return 0\n",
    "    else:\n",
    "        pages = [val.string for val in pages_links]\n",
    "        number_pages = pages[len(pages) - 2]\n",
    "        if number_pages == 0:\n",
    "            return number_pages + 1\n",
    "        else:\n",
    "            return number_pages"
   ]
  },
  {
   "cell_type": "markdown",
   "metadata": {},
   "source": [
    "# Test the method"
   ]
  },
  {
   "cell_type": "code",
   "execution_count": 23,
   "metadata": {},
   "outputs": [
    {
     "data": {
      "text/markdown": [
       "### The request url is: https://data.london.gov.uk/dataset?topics=67b1cea4-806d-4b63-90d7-155cf3ac3c03&q="
      ],
      "text/plain": [
       "<IPython.core.display.Markdown object>"
      ]
     },
     "metadata": {},
     "output_type": "display_data"
    },
    {
     "data": {
      "text/markdown": [
       "### The number of pages for the request is: 11"
      ],
      "text/plain": [
       "<IPython.core.display.Markdown object>"
      ]
     },
     "metadata": {},
     "output_type": "display_data"
    }
   ],
   "source": [
    "#Test the method\n",
    "printmd(\"### The request url is: \" + url_request)\n",
    "number_pages = int(get_number_pages_result(url_request))\n",
    "if number_pages == 0:\n",
    "    printmd(\"### No results found.\")\n",
    "else:\n",
    "    printmd(\"### The number of pages for the request is: \" + str(number_pages))"
   ]
  },
  {
   "cell_type": "markdown",
   "metadata": {},
   "source": [
    "# Get all available file formats for a resource \n",
    "\n",
    "The input for this method can be a resource URL(e.g. https://data.london.gov.uk/dataset/approved-food-establishments-)"
   ]
  },
  {
   "cell_type": "code",
   "execution_count": 305,
   "metadata": {},
   "outputs": [
    {
     "data": {
      "application/vnd.jupyter.widget-view+json": {
       "model_id": "6ba8487b84d44b9bbe261e22a4b4c30d",
       "version_major": 2,
       "version_minor": 0
      },
      "text/plain": [
       "HBox(children=(interactive(children=(Textarea(value='', description='Get formats:', layout=Layout(height='90%'…"
      ]
     },
     "metadata": {},
     "output_type": "display_data"
    }
   ],
   "source": [
    "def get_all_available_file_formats(req_url_resource):\n",
    "    response = requests.get(req_url_resource)\n",
    "    current_soup_main = BeautifulSoup(response.text, \"html.parser\")\n",
    "    files_available = []\n",
    "    resource_link = current_soup_main.find_all(\"a\",{\"class\":\"dp-resource__format\"})\n",
    "    for val in resource_link:\n",
    "        try:\n",
    "            files_available.append(val['href'][val['href'].rfind('.') + 1:])\n",
    "        except:\n",
    "            pass\n",
    "    if(files_available == []):\n",
    "        return pd.Series()\n",
    "    files_available = pd.Series(files_available)\n",
    "    return files_available.value_counts()\n",
    "\n",
    "widget_format_desc = widgets.Textarea(\n",
    "    value= '',\n",
    "    placeholder='Input your resource link',\n",
    "    description='Get formats:',\n",
    "    disabled=False,\n",
    "    layout=Layout(width='500px', height='90%')\n",
    ")\n",
    "formats_link = list()\n",
    "def formats_desc(x):\n",
    "    formats_link.append(x)\n",
    "\n",
    "w5 = interactive(formats_desc, x=widget_format_desc)\n",
    "HBox([w5])"
   ]
  },
  {
   "cell_type": "markdown",
   "metadata": {},
   "source": [
    "## Test the method"
   ]
  },
  {
   "cell_type": "code",
   "execution_count": 25,
   "metadata": {},
   "outputs": [
    {
     "data": {
      "text/markdown": [
       "### Please insert a valid link."
      ],
      "text/plain": [
       "<IPython.core.display.Markdown object>"
      ]
     },
     "metadata": {},
     "output_type": "display_data"
    }
   ],
   "source": [
    "link = formats_link[len(formats_link) - 1]\n",
    "if link != \"\":\n",
    "    printmd(\"### Available file format for the resource:\")\n",
    "    print(get_all_available_file_formats(link))\n",
    "else:\n",
    "    printmd(\"### Please insert a valid link.\")"
   ]
  },
  {
   "cell_type": "markdown",
   "metadata": {},
   "source": [
    "# Get resource description\n",
    "\n",
    "The input for this method can be a resource URL(e.g. https://data.london.gov.uk/dataset/approved-food-establishments-)"
   ]
  },
  {
   "cell_type": "code",
   "execution_count": 26,
   "metadata": {},
   "outputs": [
    {
     "data": {
      "application/vnd.jupyter.widget-view+json": {
       "model_id": "d9622767365c4d9583c8f588d3cfe717",
       "version_major": 2,
       "version_minor": 0
      },
      "text/plain": [
       "HBox(children=(interactive(children=(Textarea(value='', description='Get desc.:', layout=Layout(height='90%', …"
      ]
     },
     "metadata": {},
     "output_type": "display_data"
    }
   ],
   "source": [
    "def get_resource_description(req_url_resource):\n",
    "    response = requests.get(req_url_resource)\n",
    "    current_soup_main = BeautifulSoup(response.text, \"html.parser\")\n",
    "    description = current_soup_main.find(\"div\",{\"class\":\"dp-dataset__description content\"}).text\n",
    "    return description\n",
    "\n",
    "widget_resource_desc = widgets.Textarea(\n",
    "    value= '',\n",
    "    placeholder='Input your resource link',\n",
    "    description='Get desc.:',\n",
    "    disabled=False,\n",
    "    layout=Layout(width='500px', height='90%')\n",
    ")\n",
    "resource_link = list()\n",
    "def resource_desc(x):\n",
    "    resource_link.append(x)\n",
    "\n",
    "w4 = interactive(resource_desc, x=widget_resource_desc)\n",
    "HBox([w4])\n",
    "#\"https://data.london.gov.uk/dataset/annual-london-survey-2014\""
   ]
  },
  {
   "cell_type": "markdown",
   "metadata": {},
   "source": [
    "# Test the method"
   ]
  },
  {
   "cell_type": "code",
   "execution_count": 28,
   "metadata": {
    "scrolled": true
   },
   "outputs": [
    {
     "data": {
      "text/markdown": [
       "### Please enter a valid link."
      ],
      "text/plain": [
       "<IPython.core.display.Markdown object>"
      ]
     },
     "metadata": {},
     "output_type": "display_data"
    }
   ],
   "source": [
    "try:\n",
    "    if resource_link[len(resource_link) - 1] != \"\":\n",
    "        printmd(\"### Description of the resource:\")\n",
    "    print(get_resource_description(resource_link[len(resource_link) - 1]))\n",
    "except:\n",
    "    printmd(\"### Please enter a valid link.\")"
   ]
  },
  {
   "cell_type": "markdown",
   "metadata": {},
   "source": [
    "# Get all resources for a search"
   ]
  },
  {
   "cell_type": "markdown",
   "metadata": {
    "scrolled": false
   },
   "source": [
    "def get_request_results(req_url_request):\n",
    "    request_response = requests.get(req_url_request)\n",
    "    request_soup_main = BeautifulSoup(request_response.text, \"html.parser\")\n",
    "    #Get topics/count from the website\n",
    "    request_url_result = request_soup_main.find(\"ul\", {\"class\":\"dp-search__results\"})\n",
    "    request_url_result = request_url_result.find_all(\"div\", {\"class\":\"dp-searchresult__content\"});\n",
    "    if request_url_result == []:\n",
    "        printmd(\"**No results for your seach query.**\")\n",
    "        return pd.DataFrame(columns=['Title', 'Last_Modified', 'Description', 'Formats_Available', 'Href']), req_url_request\n",
    "    else:\n",
    "        dataframe_request_result = pd.DataFrame(columns=['Title', 'Last_Modified', 'Description', 'Formats_Available', 'Href'])\n",
    "        number_pages = get_number_pages_result(req_url_request)\n",
    "        if number_pages == 0:\n",
    "            number_pages = 1\n",
    "        printmd(\"## Number of pages for the query: \" +str(number_pages))\n",
    "        if(int(number_pages) >= 1):\n",
    "            req_url_request = req_url_request + \"&page=\" \n",
    "            for index_page in tqdm(range(1, int(number_pages) + 1), desc = \"Pages\"):\n",
    "                time.sleep(1)\n",
    "                req_url_request = req_url_request[:req_url_request.rfind('=') + 1] + str(index_page)\n",
    "                request_response = requests.get(req_url_request)\n",
    "                request_soup_main = BeautifulSoup(request_response.text, \"html.parser\")\n",
    "                request_url_result = request_soup_main.find(\"ul\", {\"class\":\"dp-search__results\"})\n",
    "                for result in request_url_result:\n",
    "                    #Href\n",
    "                    href = result.find(\"a\", {\"class\":\"dp-searchresult__heading-link\"})['href']\n",
    "                    #Title\n",
    "                    title = result.find(\"a\", {\"class\":\"dp-searchresult__heading-link\"}).text\n",
    "                    #Last modified\n",
    "                    last_modified = result.find(\"div\", {\"class\":\"dp-searchresult__modified\"}).text\n",
    "                    #Description\n",
    "                    description = get_resource_description(\"https://data.london.gov.uk\" + href)\n",
    "                    #Published by\n",
    "                    published_by = result.find(\"div\", {\"class\":\"dp-searchresult__publishedby\"}).text\n",
    "                    publishedby_start = re.search(r'\\w', published_by)\n",
    "                    publishedby_end = published_by.rfind('\\n')\n",
    "                    published_by = published_by[int(str(publishedby_start.start(0))): int(str(publishedby_end))]\n",
    "                    #Available formats\n",
    "                    url_files = \"https://data.london.gov.uk\" + href\n",
    "                    formats_available = get_all_available_file_formats(url_files)\n",
    "                    #Add to dataframe\n",
    "                    dataframe_request_result = dataframe_request_result.append({'Title' : title, 'Last_Modified': last_modified, 'Description' : description, 'Published_By' : published_by, \"Href\" : href, \"Formats_Available\" : formats_available}, ignore_index = True)        \n",
    "            #url_request = url_request[:url_request.rfind('=') + 1]\n",
    "            req_url_request = req_url_request[:req_url_request.rfind(\"&\")]\n",
    "            return dataframe_request_result, req_url_request\n",
    "\n",
    "\n",
    "# Store the results in a DataFrame\n",
    "df_result, url_request = get_request_results(url_request)"
   ]
  },
  {
   "cell_type": "code",
   "execution_count": 430,
   "metadata": {
    "scrolled": false
   },
   "outputs": [
    {
     "data": {
      "text/markdown": [
       "## Number of pages for the query: 11"
      ],
      "text/plain": [
       "<IPython.core.display.Markdown object>"
      ]
     },
     "metadata": {},
     "output_type": "display_data"
    },
    {
     "data": {
      "application/vnd.jupyter.widget-view+json": {
       "model_id": "ce4ab1e6a9f246acb16a56625a144acd",
       "version_major": 2,
       "version_minor": 0
      },
      "text/plain": [
       "HBox(children=(IntProgress(value=0, description='Pages', max=11, style=ProgressStyle(description_width='initia…"
      ]
     },
     "metadata": {},
     "output_type": "display_data"
    },
    {
     "name": "stdout",
     "output_type": "stream",
     "text": [
      "\n"
     ]
    }
   ],
   "source": [
    "def get_request_results(req_url_request):\n",
    "    request_response = requests.get(req_url_request)\n",
    "    request_soup_main = BeautifulSoup(request_response.text, \"html.parser\")\n",
    "    #Get topics/count from the website\n",
    "    request_url_result = request_soup_main.find(\"ul\", {\"class\":\"dp-search__results\"})\n",
    "    request_url_result = request_url_result.find_all(\"div\", {\"class\":\"dp-searchresult__content\"});\n",
    "    dataframe_request_result = pd.DataFrame(columns=['Title', 'Last_Modified', 'Description', 'Href', 'Published_By'])\n",
    "    dataframe_request_formats = pd.DataFrame(columns=[req_format for req_format in dataframe_website_format['Format_href']])\n",
    "    dataframe_request_result = pd.concat([dataframe_request_result, dataframe_request_formats],sort=False)\n",
    "    if request_url_result == []:\n",
    "        printmd(\"**No results for your seach query.**\")\n",
    "        return dataframe_request_result, req_url_request\n",
    "    else:\n",
    "        number_pages = get_number_pages_result(req_url_request)\n",
    "        if number_pages == 0:\n",
    "            number_pages = 1\n",
    "        printmd(\"## Number of pages for the query: \" +str(number_pages))\n",
    "        if(int(number_pages) >= 1):\n",
    "            req_url_request = req_url_request + \"&page=\" \n",
    "            for index_page in tqdm(range(1, int(number_pages) + 1), desc = \"Pages\"):\n",
    "                time.sleep(1)\n",
    "                req_url_request = req_url_request[:req_url_request.rfind('=') + 1] + str(index_page)\n",
    "                request_response = requests.get(req_url_request)\n",
    "                request_soup_main = BeautifulSoup(request_response.text, \"html.parser\")\n",
    "                request_url_result = request_soup_main.find(\"ul\", {\"class\":\"dp-search__results\"})\n",
    "                for result in request_url_result:\n",
    "                    #Href\n",
    "                    href = result.find(\"a\", {\"class\":\"dp-searchresult__heading-link\"})['href']\n",
    "                    \n",
    "                    #Title\n",
    "                    title = result.find(\"a\", {\"class\":\"dp-searchresult__heading-link\"}).text\n",
    "                    \n",
    "                    #Last modified\n",
    "                    last_modified = result.find(\"div\", {\"class\":\"dp-searchresult__modified\"}).text\n",
    "                    \n",
    "                    #Description\n",
    "                    description = get_resource_description(\"https://data.london.gov.uk\" + href)\n",
    "                    \n",
    "                    #Published by\n",
    "                    published_by = result.find(\"div\", {\"class\":\"dp-searchresult__publishedby\"}).text\n",
    "                    publishedby_start = re.search(r'\\w', published_by)\n",
    "                    publishedby_end = published_by.rfind('\\n')\n",
    "                    published_by = published_by[int(str(publishedby_start.start(0))): int(str(publishedby_end))]\n",
    "                    \n",
    "                    #Available formats\n",
    "                    url_files = \"https://data.london.gov.uk\" + href\n",
    "                    formats_available = get_all_available_file_formats(url_files)\n",
    "                    \n",
    "                    #Add to dataframe\n",
    "                    info_series = pd.Series({'Title' : title, 'Last_Modified': last_modified, 'Description' : description, 'Published_By' : published_by, \"Href\" : href})\n",
    "                    info_series = pd.concat([info_series, formats_available])\n",
    "                    dataframe_request_result = dataframe_request_result.append(info_series, ignore_index = True)        \n",
    "            \n",
    "            #url_request = url_request[:url_request.rfind('=') + 1]\n",
    "            req_url_request = req_url_request[:req_url_request.rfind(\"&\")]\n",
    "            return dataframe_request_result, req_url_request\n",
    "\n",
    "\n",
    "# Store the results in a DataFrame\n",
    "df_result, url_request = get_request_results(url_request)\n",
    "df_result = df_result.fillna(0)\n",
    "column_names = df_result.columns[1:5].tolist()\n",
    "column_names.append(\"Formats\")\n"
   ]
  },
  {
   "cell_type": "markdown",
   "metadata": {},
   "source": [
    "## Print the resource results for the query"
   ]
  },
  {
   "cell_type": "code",
   "execution_count": 493,
   "metadata": {
    "scrolled": false
   },
   "outputs": [
    {
     "data": {
      "text/markdown": [
       "## The resources available matching your query:"
      ],
      "text/plain": [
       "<IPython.core.display.Markdown object>"
      ]
     },
     "metadata": {},
     "output_type": "display_data"
    },
    {
     "data": {
      "text/html": [
       "<div>\n",
       "<style scoped>\n",
       "    .dataframe tbody tr th:only-of-type {\n",
       "        vertical-align: middle;\n",
       "    }\n",
       "\n",
       "    .dataframe tbody tr th {\n",
       "        vertical-align: top;\n",
       "    }\n",
       "\n",
       "    .dataframe thead th {\n",
       "        text-align: right;\n",
       "    }\n",
       "</style>\n",
       "<table border=\"1\" class=\"dataframe\">\n",
       "  <thead>\n",
       "    <tr style=\"text-align: right;\">\n",
       "      <th></th>\n",
       "      <th>Title</th>\n",
       "      <th>Last_Modified</th>\n",
       "      <th>Description</th>\n",
       "      <th>Href</th>\n",
       "      <th>Published_By</th>\n",
       "      <th>spreadsheet</th>\n",
       "      <th>csv</th>\n",
       "      <th>pdf</th>\n",
       "      <th>html</th>\n",
       "      <th>zip</th>\n",
       "      <th>...</th>\n",
       "      <th>uk/gla/rest/services/apps/planning_data_map_03/MapServer/208</th>\n",
       "      <th>uk/gla/rest/services/apps/planning_data_map_03/MapServer/209</th>\n",
       "      <th>uk/gla/rest/services/apps/planning_data_map_03/MapServer/201</th>\n",
       "      <th>uk/gla/rest/services/apps/planning_data_map_03/MapServer/107</th>\n",
       "      <th>uk/gla/rest/services/apps/planning_data_map_03/MapServer</th>\n",
       "      <th>uk/priorities/housing-land/land-assets/land-and-property-database</th>\n",
       "      <th>jpg</th>\n",
       "      <th>png</th>\n",
       "      <th>uk</th>\n",
       "      <th>asp</th>\n",
       "    </tr>\n",
       "  </thead>\n",
       "  <tbody>\n",
       "    <tr>\n",
       "      <td>0</td>\n",
       "      <td>Planning permissions on the London Development Database (LDD)</td>\n",
       "      <td>Updated 9 days ago</td>\n",
       "      <td>The London Development Database (LDD) records significant planning permissions in London.\\nThe d...</td>\n",
       "      <td>/dataset/planning-permissions-on-the-london-development-database--ldd-</td>\n",
       "      <td>Greater London Authority (GLA)</td>\n",
       "      <td>0</td>\n",
       "      <td>0</td>\n",
       "      <td>0</td>\n",
       "      <td>0</td>\n",
       "      <td>0</td>\n",
       "      <td>...</td>\n",
       "      <td>0.0</td>\n",
       "      <td>0.0</td>\n",
       "      <td>0.0</td>\n",
       "      <td>0.0</td>\n",
       "      <td>0.0</td>\n",
       "      <td>0.0</td>\n",
       "      <td>0.0</td>\n",
       "      <td>0.0</td>\n",
       "      <td>0.0</td>\n",
       "      <td>0.0</td>\n",
       "    </tr>\n",
       "    <tr>\n",
       "      <td>1</td>\n",
       "      <td>London's Economy Today</td>\n",
       "      <td>Updated 13 days ago</td>\n",
       "      <td>The most up-to-date information on London's economy, published by email every month. Each issue ...</td>\n",
       "      <td>/dataset/london-economy-today</td>\n",
       "      <td>Greater London Authority (GLA)</td>\n",
       "      <td>0</td>\n",
       "      <td>0</td>\n",
       "      <td>1</td>\n",
       "      <td>0</td>\n",
       "      <td>0</td>\n",
       "      <td>...</td>\n",
       "      <td>0.0</td>\n",
       "      <td>0.0</td>\n",
       "      <td>0.0</td>\n",
       "      <td>0.0</td>\n",
       "      <td>0.0</td>\n",
       "      <td>0.0</td>\n",
       "      <td>0.0</td>\n",
       "      <td>0.0</td>\n",
       "      <td>0.0</td>\n",
       "      <td>0.0</td>\n",
       "    </tr>\n",
       "    <tr>\n",
       "      <td>2</td>\n",
       "      <td>Indices of Deprivation</td>\n",
       "      <td>Updated 14 days ago</td>\n",
       "      <td>\\n This page contains all the English Indices of Deprivation (ID) data for London at LSOA and bo...</td>\n",
       "      <td>/dataset/indices-of-deprivation</td>\n",
       "      <td>Ministry of Housing, Communities &amp; Local Government (MHCLG)</td>\n",
       "      <td>0</td>\n",
       "      <td>1</td>\n",
       "      <td>2</td>\n",
       "      <td>0</td>\n",
       "      <td>1</td>\n",
       "      <td>...</td>\n",
       "      <td>0.0</td>\n",
       "      <td>0.0</td>\n",
       "      <td>0.0</td>\n",
       "      <td>0.0</td>\n",
       "      <td>0.0</td>\n",
       "      <td>0.0</td>\n",
       "      <td>0.0</td>\n",
       "      <td>0.0</td>\n",
       "      <td>0.0</td>\n",
       "      <td>0.0</td>\n",
       "    </tr>\n",
       "    <tr>\n",
       "      <td>3</td>\n",
       "      <td>GLA Grants data</td>\n",
       "      <td>Updated 14 days ago</td>\n",
       "      <td>The GLA Grants Dataset contains data relating to grants which have been awarded by the GLA since...</td>\n",
       "      <td>/dataset/gla-grants-data</td>\n",
       "      <td>Greater London Authority (GLA)</td>\n",
       "      <td>0</td>\n",
       "      <td>1</td>\n",
       "      <td>0</td>\n",
       "      <td>0</td>\n",
       "      <td>0</td>\n",
       "      <td>...</td>\n",
       "      <td>0.0</td>\n",
       "      <td>0.0</td>\n",
       "      <td>0.0</td>\n",
       "      <td>0.0</td>\n",
       "      <td>0.0</td>\n",
       "      <td>0.0</td>\n",
       "      <td>0.0</td>\n",
       "      <td>0.0</td>\n",
       "      <td>0.0</td>\n",
       "      <td>0.0</td>\n",
       "    </tr>\n",
       "    <tr>\n",
       "      <td>4</td>\n",
       "      <td>Lending by Postcode Sector</td>\n",
       "      <td>Updated 15 days ago</td>\n",
       "      <td>Value of outstanding residential mortgage lending by postcode sector for 9,273 Great Britain pos...</td>\n",
       "      <td>/dataset/lending-by-postcode-sector</td>\n",
       "      <td>Council of Mortgage Lenders</td>\n",
       "      <td>0</td>\n",
       "      <td>0</td>\n",
       "      <td>0</td>\n",
       "      <td>0</td>\n",
       "      <td>0</td>\n",
       "      <td>...</td>\n",
       "      <td>0.0</td>\n",
       "      <td>0.0</td>\n",
       "      <td>0.0</td>\n",
       "      <td>0.0</td>\n",
       "      <td>0.0</td>\n",
       "      <td>0.0</td>\n",
       "      <td>0.0</td>\n",
       "      <td>0.0</td>\n",
       "      <td>0.0</td>\n",
       "      <td>0.0</td>\n",
       "    </tr>\n",
       "    <tr>\n",
       "      <td>...</td>\n",
       "      <td>...</td>\n",
       "      <td>...</td>\n",
       "      <td>...</td>\n",
       "      <td>...</td>\n",
       "      <td>...</td>\n",
       "      <td>...</td>\n",
       "      <td>...</td>\n",
       "      <td>...</td>\n",
       "      <td>...</td>\n",
       "      <td>...</td>\n",
       "      <td>...</td>\n",
       "      <td>...</td>\n",
       "      <td>...</td>\n",
       "      <td>...</td>\n",
       "      <td>...</td>\n",
       "      <td>...</td>\n",
       "      <td>...</td>\n",
       "      <td>...</td>\n",
       "      <td>...</td>\n",
       "      <td>...</td>\n",
       "      <td>...</td>\n",
       "    </tr>\n",
       "    <tr>\n",
       "      <td>101</td>\n",
       "      <td>Census 2001 Key Statistics 20: Household Composition</td>\n",
       "      <td>Updated 6 years ago</td>\n",
       "      <td>Census Key Statistics Table KS20: Household composition\\n\\nA dependent child is a person in a ho...</td>\n",
       "      <td>/dataset/census-2001-key-statistics-20-household-composition</td>\n",
       "      <td>Office for National Statistics (ONS)</td>\n",
       "      <td>0</td>\n",
       "      <td>1</td>\n",
       "      <td>0</td>\n",
       "      <td>0</td>\n",
       "      <td>0</td>\n",
       "      <td>...</td>\n",
       "      <td>0.0</td>\n",
       "      <td>0.0</td>\n",
       "      <td>0.0</td>\n",
       "      <td>0.0</td>\n",
       "      <td>0.0</td>\n",
       "      <td>0.0</td>\n",
       "      <td>0.0</td>\n",
       "      <td>0.0</td>\n",
       "      <td>0.0</td>\n",
       "      <td>1.0</td>\n",
       "    </tr>\n",
       "    <tr>\n",
       "      <td>102</td>\n",
       "      <td>Solid wall and off gas network properties, (LSOA)</td>\n",
       "      <td>Created 6 years ago</td>\n",
       "      <td>Number and percentage of properties with solid walls and those not connected to gas mains at Low...</td>\n",
       "      <td>/dataset/solid-wall-and-off-gas-network-properties-lsoa</td>\n",
       "      <td>Greater London Authority (GLA)</td>\n",
       "      <td>0</td>\n",
       "      <td>0</td>\n",
       "      <td>0</td>\n",
       "      <td>0</td>\n",
       "      <td>0</td>\n",
       "      <td>...</td>\n",
       "      <td>0.0</td>\n",
       "      <td>0.0</td>\n",
       "      <td>0.0</td>\n",
       "      <td>0.0</td>\n",
       "      <td>0.0</td>\n",
       "      <td>0.0</td>\n",
       "      <td>0.0</td>\n",
       "      <td>0.0</td>\n",
       "      <td>0.0</td>\n",
       "      <td>0.0</td>\n",
       "    </tr>\n",
       "    <tr>\n",
       "      <td>103</td>\n",
       "      <td>Dwelling Stock by Tenure and Condition, Borough</td>\n",
       "      <td>Updated 6 years ago</td>\n",
       "      <td>Number and percentage of dwellings by tenure, and type of dwelling, including condition.\\n\\nDown...</td>\n",
       "      <td>/dataset/dwelling-stock-tenure-and-condition-borough</td>\n",
       "      <td>Office for National Statistics (ONS)</td>\n",
       "      <td>0</td>\n",
       "      <td>0</td>\n",
       "      <td>0</td>\n",
       "      <td>0</td>\n",
       "      <td>0</td>\n",
       "      <td>...</td>\n",
       "      <td>0.0</td>\n",
       "      <td>0.0</td>\n",
       "      <td>0.0</td>\n",
       "      <td>0.0</td>\n",
       "      <td>0.0</td>\n",
       "      <td>0.0</td>\n",
       "      <td>0.0</td>\n",
       "      <td>0.0</td>\n",
       "      <td>0.0</td>\n",
       "      <td>0.0</td>\n",
       "    </tr>\n",
       "    <tr>\n",
       "      <td>104</td>\n",
       "      <td>European Quality of Life Survey</td>\n",
       "      <td>Updated 6 years ago</td>\n",
       "      <td>The European Quality of Life survey (EQLS) examines both the objective circumstances of European...</td>\n",
       "      <td>/dataset/european-quality-life-survey</td>\n",
       "      <td>Greater London Authority (GLA)</td>\n",
       "      <td>0</td>\n",
       "      <td>0</td>\n",
       "      <td>0</td>\n",
       "      <td>0</td>\n",
       "      <td>0</td>\n",
       "      <td>...</td>\n",
       "      <td>0.0</td>\n",
       "      <td>0.0</td>\n",
       "      <td>0.0</td>\n",
       "      <td>0.0</td>\n",
       "      <td>0.0</td>\n",
       "      <td>0.0</td>\n",
       "      <td>0.0</td>\n",
       "      <td>0.0</td>\n",
       "      <td>0.0</td>\n",
       "      <td>0.0</td>\n",
       "    </tr>\n",
       "    <tr>\n",
       "      <td>105</td>\n",
       "      <td>Empty Homes</td>\n",
       "      <td>Created 7 years ago</td>\n",
       "      <td>Who owns the empty homes.\\n\\nEach year the Department for Communities and Local Government colle...</td>\n",
       "      <td>/dataset/empty-homes</td>\n",
       "      <td>The Empty Homes Agency</td>\n",
       "      <td>0</td>\n",
       "      <td>1</td>\n",
       "      <td>0</td>\n",
       "      <td>0</td>\n",
       "      <td>0</td>\n",
       "      <td>...</td>\n",
       "      <td>0.0</td>\n",
       "      <td>0.0</td>\n",
       "      <td>0.0</td>\n",
       "      <td>0.0</td>\n",
       "      <td>0.0</td>\n",
       "      <td>0.0</td>\n",
       "      <td>0.0</td>\n",
       "      <td>0.0</td>\n",
       "      <td>0.0</td>\n",
       "      <td>0.0</td>\n",
       "    </tr>\n",
       "  </tbody>\n",
       "</table>\n",
       "<p>106 rows × 50 columns</p>\n",
       "</div>"
      ],
      "text/plain": [
       "                                                             Title  \\\n",
       "0    Planning permissions on the London Development Database (LDD)   \n",
       "1                                           London's Economy Today   \n",
       "2                                           Indices of Deprivation   \n",
       "3                                                  GLA Grants data   \n",
       "4                                       Lending by Postcode Sector   \n",
       "..                                                             ...   \n",
       "101           Census 2001 Key Statistics 20: Household Composition   \n",
       "102              Solid wall and off gas network properties, (LSOA)   \n",
       "103                Dwelling Stock by Tenure and Condition, Borough   \n",
       "104                                European Quality of Life Survey   \n",
       "105                                                    Empty Homes   \n",
       "\n",
       "           Last_Modified  \\\n",
       "0     Updated 9 days ago   \n",
       "1    Updated 13 days ago   \n",
       "2    Updated 14 days ago   \n",
       "3    Updated 14 days ago   \n",
       "4    Updated 15 days ago   \n",
       "..                   ...   \n",
       "101  Updated 6 years ago   \n",
       "102  Created 6 years ago   \n",
       "103  Updated 6 years ago   \n",
       "104  Updated 6 years ago   \n",
       "105  Created 7 years ago   \n",
       "\n",
       "                                                                                             Description  \\\n",
       "0    The London Development Database (LDD) records significant planning permissions in London.\\nThe d...   \n",
       "1    The most up-to-date information on London's economy, published by email every month. Each issue ...   \n",
       "2    \\n This page contains all the English Indices of Deprivation (ID) data for London at LSOA and bo...   \n",
       "3    The GLA Grants Dataset contains data relating to grants which have been awarded by the GLA since...   \n",
       "4    Value of outstanding residential mortgage lending by postcode sector for 9,273 Great Britain pos...   \n",
       "..                                                                                                   ...   \n",
       "101  Census Key Statistics Table KS20: Household composition\\n\\nA dependent child is a person in a ho...   \n",
       "102  Number and percentage of properties with solid walls and those not connected to gas mains at Low...   \n",
       "103  Number and percentage of dwellings by tenure, and type of dwelling, including condition.\\n\\nDown...   \n",
       "104  The European Quality of Life survey (EQLS) examines both the objective circumstances of European...   \n",
       "105  Who owns the empty homes.\\n\\nEach year the Department for Communities and Local Government colle...   \n",
       "\n",
       "                                                                       Href  \\\n",
       "0    /dataset/planning-permissions-on-the-london-development-database--ldd-   \n",
       "1                                             /dataset/london-economy-today   \n",
       "2                                           /dataset/indices-of-deprivation   \n",
       "3                                                  /dataset/gla-grants-data   \n",
       "4                                       /dataset/lending-by-postcode-sector   \n",
       "..                                                                      ...   \n",
       "101            /dataset/census-2001-key-statistics-20-household-composition   \n",
       "102                 /dataset/solid-wall-and-off-gas-network-properties-lsoa   \n",
       "103                    /dataset/dwelling-stock-tenure-and-condition-borough   \n",
       "104                                   /dataset/european-quality-life-survey   \n",
       "105                                                    /dataset/empty-homes   \n",
       "\n",
       "                                                    Published_By  spreadsheet  \\\n",
       "0                                 Greater London Authority (GLA)            0   \n",
       "1                                 Greater London Authority (GLA)            0   \n",
       "2    Ministry of Housing, Communities & Local Government (MHCLG)            0   \n",
       "3                                 Greater London Authority (GLA)            0   \n",
       "4                                    Council of Mortgage Lenders            0   \n",
       "..                                                           ...          ...   \n",
       "101                         Office for National Statistics (ONS)            0   \n",
       "102                               Greater London Authority (GLA)            0   \n",
       "103                         Office for National Statistics (ONS)            0   \n",
       "104                               Greater London Authority (GLA)            0   \n",
       "105                                       The Empty Homes Agency            0   \n",
       "\n",
       "     csv  pdf  html  zip  ...  \\\n",
       "0      0    0     0    0  ...   \n",
       "1      0    1     0    0  ...   \n",
       "2      1    2     0    1  ...   \n",
       "3      1    0     0    0  ...   \n",
       "4      0    0     0    0  ...   \n",
       "..   ...  ...   ...  ...  ...   \n",
       "101    1    0     0    0  ...   \n",
       "102    0    0     0    0  ...   \n",
       "103    0    0     0    0  ...   \n",
       "104    0    0     0    0  ...   \n",
       "105    1    0     0    0  ...   \n",
       "\n",
       "     uk/gla/rest/services/apps/planning_data_map_03/MapServer/208  \\\n",
       "0                                                             0.0   \n",
       "1                                                             0.0   \n",
       "2                                                             0.0   \n",
       "3                                                             0.0   \n",
       "4                                                             0.0   \n",
       "..                                                            ...   \n",
       "101                                                           0.0   \n",
       "102                                                           0.0   \n",
       "103                                                           0.0   \n",
       "104                                                           0.0   \n",
       "105                                                           0.0   \n",
       "\n",
       "     uk/gla/rest/services/apps/planning_data_map_03/MapServer/209  \\\n",
       "0                                                             0.0   \n",
       "1                                                             0.0   \n",
       "2                                                             0.0   \n",
       "3                                                             0.0   \n",
       "4                                                             0.0   \n",
       "..                                                            ...   \n",
       "101                                                           0.0   \n",
       "102                                                           0.0   \n",
       "103                                                           0.0   \n",
       "104                                                           0.0   \n",
       "105                                                           0.0   \n",
       "\n",
       "     uk/gla/rest/services/apps/planning_data_map_03/MapServer/201  \\\n",
       "0                                                             0.0   \n",
       "1                                                             0.0   \n",
       "2                                                             0.0   \n",
       "3                                                             0.0   \n",
       "4                                                             0.0   \n",
       "..                                                            ...   \n",
       "101                                                           0.0   \n",
       "102                                                           0.0   \n",
       "103                                                           0.0   \n",
       "104                                                           0.0   \n",
       "105                                                           0.0   \n",
       "\n",
       "     uk/gla/rest/services/apps/planning_data_map_03/MapServer/107  \\\n",
       "0                                                             0.0   \n",
       "1                                                             0.0   \n",
       "2                                                             0.0   \n",
       "3                                                             0.0   \n",
       "4                                                             0.0   \n",
       "..                                                            ...   \n",
       "101                                                           0.0   \n",
       "102                                                           0.0   \n",
       "103                                                           0.0   \n",
       "104                                                           0.0   \n",
       "105                                                           0.0   \n",
       "\n",
       "     uk/gla/rest/services/apps/planning_data_map_03/MapServer  \\\n",
       "0                                                         0.0   \n",
       "1                                                         0.0   \n",
       "2                                                         0.0   \n",
       "3                                                         0.0   \n",
       "4                                                         0.0   \n",
       "..                                                        ...   \n",
       "101                                                       0.0   \n",
       "102                                                       0.0   \n",
       "103                                                       0.0   \n",
       "104                                                       0.0   \n",
       "105                                                       0.0   \n",
       "\n",
       "     uk/priorities/housing-land/land-assets/land-and-property-database  jpg  \\\n",
       "0                                                                  0.0  0.0   \n",
       "1                                                                  0.0  0.0   \n",
       "2                                                                  0.0  0.0   \n",
       "3                                                                  0.0  0.0   \n",
       "4                                                                  0.0  0.0   \n",
       "..                                                                 ...  ...   \n",
       "101                                                                0.0  0.0   \n",
       "102                                                                0.0  0.0   \n",
       "103                                                                0.0  0.0   \n",
       "104                                                                0.0  0.0   \n",
       "105                                                                0.0  0.0   \n",
       "\n",
       "     png   uk  asp  \n",
       "0    0.0  0.0  0.0  \n",
       "1    0.0  0.0  0.0  \n",
       "2    0.0  0.0  0.0  \n",
       "3    0.0  0.0  0.0  \n",
       "4    0.0  0.0  0.0  \n",
       "..   ...  ...  ...  \n",
       "101  0.0  0.0  1.0  \n",
       "102  0.0  0.0  0.0  \n",
       "103  0.0  0.0  0.0  \n",
       "104  0.0  0.0  0.0  \n",
       "105  0.0  0.0  0.0  \n",
       "\n",
       "[106 rows x 50 columns]"
      ]
     },
     "metadata": {},
     "output_type": "display_data"
    }
   ],
   "source": [
    "if df_result.empty == True:\n",
    "    printmd(\"## No results.\")\n",
    "else:\n",
    "    printmd(\"## The resources available matching your query:\")\n",
    "    display(df_result)"
   ]
  },
  {
   "cell_type": "markdown",
   "metadata": {},
   "source": [
    "# See details of a specific resource"
   ]
  },
  {
   "cell_type": "code",
   "execution_count": 597,
   "metadata": {},
   "outputs": [],
   "source": [
    "def get_available_formats(req_df, req_resource):\n",
    "    resource_formats = req_df[req_df['Title'] == req_resource].iloc[:, 5:].iloc[0]\n",
    "    available_formats_resource = np.where(resource_formats > 0)[0] + 5\n",
    "    resource_formats = req_df[req_df['Title'] == req_resource].iloc[:, available_formats_resource].squeeze(axis = 0)\n",
    "    return resource_formats\n",
    "    \n",
    "    \n",
    "def retrieve_information(req_df, req_resource, req_information):\n",
    "    result = pd.DataFrame()\n",
    "    if req_information != ():\n",
    "        for current_resource_name in req_resource:\n",
    "            current_resource_info = pd.Series()\n",
    "            current_resource_info['Title'] = current_resource_name\n",
    "            for info in req_information:\n",
    "                    if info != 'Formats':\n",
    "                        current_resource_info[info] = req_df[req_df['Title'] == current_resource_name][info].iloc[0]\n",
    "                    else:\n",
    "                        resource_formats = get_available_formats(req_df, current_resource_name)\n",
    "                        current_resource_info = pd.concat([current_resource_info, resource_formats])\n",
    "            result = result.append(current_resource_info, ignore_index=True)\n",
    "    else:\n",
    "        for current_resource_name in req_resource:\n",
    "            current_resource_info = req_df[req_df['Title'] == current_resource_name].iloc[:, :5].iloc[0]    \n",
    "            resource_formats = get_available_formats(req_df, current_resource_name)\n",
    "            current_resource_info = pd.concat([current_resource_info, resource_formats])\n",
    "            result = result.append(current_resource_info, ignore_index=True)\n",
    "    return result.fillna(0)"
   ]
  },
  {
   "cell_type": "code",
   "execution_count": 454,
   "metadata": {
    "scrolled": true
   },
   "outputs": [
    {
     "data": {
      "text/markdown": [
       "## Select resource and information required"
      ],
      "text/plain": [
       "<IPython.core.display.Markdown object>"
      ]
     },
     "metadata": {},
     "output_type": "display_data"
    },
    {
     "data": {
      "application/vnd.jupyter.widget-view+json": {
       "model_id": "c0a708346d8b4f199a808a0fb8277b8e",
       "version_major": 2,
       "version_minor": 0
      },
      "text/plain": [
       "HBox(children=(interactive(children=(SelectMultiple(description='Resource:', options=('Planning permissions on…"
      ]
     },
     "metadata": {},
     "output_type": "display_data"
    }
   ],
   "source": [
    "widget_select_resource = widgets.SelectMultiple(\n",
    "    options=df_result['Title'],\n",
    "    rows=15,\n",
    "    description='Resource:',\n",
    "    disabled=False\n",
    ")\n",
    "\n",
    "\n",
    "widget_select_information = widgets.SelectMultiple(\n",
    "    options=column_names,\n",
    "    rows=6,\n",
    "    description='Information:',\n",
    "    disabled=False\n",
    ")\n",
    "\n",
    "resources_arr = list()\n",
    "information_arr = list()\n",
    "\n",
    "def resources(x):\n",
    "    resources_arr.append(x)\n",
    "def information(x):\n",
    "    information_arr.append(x)\n",
    "    \n",
    "w1 = interactive(resources, x=widget_select_resource)\n",
    "w2 = interactive(information, x=widget_select_information)\n",
    "printmd(\"## Select resource and information required\")\n",
    "HBox([w1, w2])"
   ]
  },
  {
   "cell_type": "code",
   "execution_count": 607,
   "metadata": {
    "scrolled": false
   },
   "outputs": [
    {
     "data": {
      "text/html": [
       "<div>\n",
       "<style scoped>\n",
       "    .dataframe tbody tr th:only-of-type {\n",
       "        vertical-align: middle;\n",
       "    }\n",
       "\n",
       "    .dataframe tbody tr th {\n",
       "        vertical-align: top;\n",
       "    }\n",
       "\n",
       "    .dataframe thead th {\n",
       "        text-align: right;\n",
       "    }\n",
       "</style>\n",
       "<table border=\"1\" class=\"dataframe\">\n",
       "  <thead>\n",
       "    <tr style=\"text-align: right;\">\n",
       "      <th></th>\n",
       "      <th>Description</th>\n",
       "      <th>Href</th>\n",
       "      <th>Last_Modified</th>\n",
       "      <th>Published_By</th>\n",
       "      <th>Title</th>\n",
       "      <th>xlsx</th>\n",
       "    </tr>\n",
       "  </thead>\n",
       "  <tbody>\n",
       "    <tr>\n",
       "      <td>0</td>\n",
       "      <td>The London Development Database (LDD) records significant planning permissions in London.\\nThe d...</td>\n",
       "      <td>/dataset/planning-permissions-on-the-london-development-database--ldd-</td>\n",
       "      <td>Updated 9 days ago</td>\n",
       "      <td>Greater London Authority (GLA)</td>\n",
       "      <td>Planning permissions on the London Development Database (LDD)</td>\n",
       "      <td>5.0</td>\n",
       "    </tr>\n",
       "  </tbody>\n",
       "</table>\n",
       "</div>"
      ],
      "text/plain": [
       "                                                                                           Description  \\\n",
       "0  The London Development Database (LDD) records significant planning permissions in London.\\nThe d...   \n",
       "\n",
       "                                                                     Href  \\\n",
       "0  /dataset/planning-permissions-on-the-london-development-database--ldd-   \n",
       "\n",
       "        Last_Modified                    Published_By  \\\n",
       "0  Updated 9 days ago  Greater London Authority (GLA)   \n",
       "\n",
       "                                                           Title  xlsx  \n",
       "0  Planning permissions on the London Development Database (LDD)   5.0  "
      ]
     },
     "execution_count": 607,
     "metadata": {},
     "output_type": "execute_result"
    }
   ],
   "source": [
    "# Test the method\n",
    "try:\n",
    "    resources_elements = resources_arr[len(resources_arr) - 1] \n",
    "    information_elements= information_arr[len(information_arr) - 1] \n",
    "except IndexError:\n",
    "    pass\n",
    "retrieve_information(df_result, resources_elements, information_elements)"
   ]
  },
  {
   "cell_type": "markdown",
   "metadata": {},
   "source": [
    "# Select which file/format to download. Select where to download the resource"
   ]
  },
  {
   "cell_type": "code",
   "execution_count": 606,
   "metadata": {},
   "outputs": [],
   "source": [
    "# def get_available_formats_result(req_series):\n",
    "#     result = set()\n",
    "#     for val in req_series:\n",
    "#         try:\n",
    "#             a = val.index.tolist()\n",
    "#             for val2 in a:\n",
    "#                 result.add(val2)\n",
    "#         except AttributeError:\n",
    "#             pass\n",
    "#     return result\n",
    "# print(get_available_formats_result(df_result['Formats']))"
   ]
  },
  {
   "cell_type": "code",
   "execution_count": 605,
   "metadata": {
    "scrolled": false
   },
   "outputs": [
    {
     "data": {
      "application/vnd.jupyter.widget-view+json": {
       "model_id": "77a39f953eaf499c98b68b7f2dc2df9e",
       "version_major": 2,
       "version_minor": 0
      },
      "text/plain": [
       "Box(children=(interactive(children=(SelectMultiple(description='Topics', layout=Layout(height='90%', width='90…"
      ]
     },
     "metadata": {},
     "output_type": "display_data"
    }
   ],
   "source": [
    "def get_available_formats_result(req_series):\n",
    "    result = set()\n",
    "    for value_1 in req_series:\n",
    "        try:\n",
    "            val_format = value_1.index.tolist()\n",
    "            for value_2 in val_format:\n",
    "                result.add(value_2)\n",
    "        except AttributeError:\n",
    "            pass\n",
    "    return result\n",
    "\n",
    "widget_file = widgets.SelectMultiple(\n",
    "    options = df_result['Title'],\n",
    "    rows = 10,\n",
    "    description = 'Topics',\n",
    "    disabled = False,\n",
    "    layout=Layout(width='90%', height='90%')\n",
    ")\n",
    "\n",
    "widget_file_format = widgets.SelectMultiple(\n",
    "    options = df_result.columns[5:],\n",
    "    rows = 10,\n",
    "    description = 'Formats',\n",
    "    disabled = False,\n",
    "    layout=Layout(width='90%', height='100%')\n",
    ")\n",
    "\n",
    "widget_local = widgets.Checkbox(\n",
    "    value=False,\n",
    "    description='Local storage',\n",
    "    disabled=False,\n",
    "    indent=False\n",
    ")\n",
    "\n",
    "widget_s3 = widgets.Checkbox(\n",
    "    value=False,\n",
    "    description='S3 Storage',\n",
    "    disabled=False,\n",
    "    indent=False\n",
    ")\n",
    "\n",
    "\n",
    "file_arr = list()\n",
    "file_format_arr = list()\n",
    "def files(x):\n",
    "    file_arr.append(x)\n",
    "def files_formats(x):\n",
    "    file_format_arr.append(x)\n",
    "def store_local(x):\n",
    "    pass\n",
    "def store_s3(x):\n",
    "    pass\n",
    "\n",
    "    \n",
    "w2_1= interactive(files,  x=widget_file)\n",
    "w2_2 = interactive(files_formats, x=widget_file_format)\n",
    "w2_3 = interactive(store_local, x=widget_local)\n",
    "w2_4 = interactive(store_s3, x=widget_s3)\n",
    "form_item_layout = Layout(\n",
    "    display='inline-flex',\n",
    "    flex_flow='row',\n",
    "    justify_content='space-between'\n",
    ")\n",
    "\n",
    "form_items = [w2_1, w2_2, w2_3,w2_4]\n",
    "if df_result.empty == False:\n",
    "    form = Box(form_items, layout=Layout(\n",
    "        display='flex',\n",
    "        flex_flow='column',\n",
    "        align_items='stretch',\n",
    "        width='90%'\n",
    "    ))\n",
    "    display(form)\n",
    "else:\n",
    "    printmd(\"**No results for the search query.**\")"
   ]
  },
  {
   "cell_type": "markdown",
   "metadata": {},
   "source": [
    "## Get the selected files/formats"
   ]
  },
  {
   "cell_type": "code",
   "execution_count": 621,
   "metadata": {},
   "outputs": [],
   "source": [
    "try:\n",
    "    files_download = file_arr[len(file_arr) - 1] \n",
    "    files_format_download= file_format_arr[len(file_format_arr) - 1] \n",
    "except IndexError:\n",
    "    pass\n",
    "except NameError:\n",
    "    pass"
   ]
  },
  {
   "cell_type": "code",
   "execution_count": 622,
   "metadata": {
    "scrolled": false
   },
   "outputs": [],
   "source": [
    "#Parameters = req_request_page -> url with the searchj/ req_files -> files to be downloaded\n",
    "def download_items(req_request_page_url, req_files = (), req_format = ()):\n",
    "    number_pages = int(get_number_pages_result(req_request_page_url))\n",
    "    if number_pages == 0:\n",
    "        number_pages = 1\n",
    "    try:\n",
    "        if path.exists(\"../London_DataStore\") != True:\n",
    "            os.mkdir(\"../London_DataStore\")\n",
    "        else:\n",
    "            pass\n",
    "    except OSError:\n",
    "        print(\"Cannot create folder.\")\n",
    "        time.sleep(1)\n",
    "        return 0\n",
    "    for index_page in tqdm(range(1, number_pages + 1), desc = \"Pages\", leave = False):\n",
    "        current_url = req_request_page_url + \"&page=\" + str(index_page)\n",
    "        response = requests.get(current_url)\n",
    "        current_soup_main = BeautifulSoup(response.text, \"html.parser\")\n",
    "        search_results = current_soup_main.find_all(\"a\", {\"class\": \"dp-searchresult__heading-link\"})\n",
    "        search_results_headings = list(map(lambda x: x.text, search_results))\n",
    "        if req_files != None:\n",
    "            search_results_found = list(map(lambda x: True if x in req_files else False, search_results_headings))\n",
    "            indexes_documents = np.where(np.array(search_results_found) == True)[0]\n",
    "        else:\n",
    "            indexes_documents = np.arange(len(search_results_headings))\n",
    "        for current_file_found in tqdm_notebook(indexes_documents, desc = \"Resources\", leave = False):\n",
    "            url_file = \"https://data.london.gov.uk\" + search_results[current_file_found]['href']\n",
    "            response = requests.get(url_file)\n",
    "            title_format = search_results_headings[current_file_found].replace(\"/\", \"_\")\n",
    "            time.sleep(1)\n",
    "            current_soup_main = BeautifulSoup(response.text, \"html.parser\")\n",
    "            search_results_buttons = current_soup_main.find_all(\"a\", {\"class\": \"dp-resource__button\"})\n",
    "            if  req_format != ():\n",
    "                search_results_formats_found = list(map(lambda x: True if x['href'][x['href'].rfind(\".\") + 1:] in req_format else False, search_results_buttons))\n",
    "                index_files = np.where(np.array(search_results_formats_found) == True)[0]\n",
    "                if len(index_files) != 0:\n",
    "                    for current_index in tqdm_notebook(index_files, desc = \"Files\", leave = False):\n",
    "                        filedata = manager.urlopen('GET', url = \"https://data.london.gov.uk\" + search_results_buttons[current_index]['href'], preload_content=False)\n",
    "                        datatowrite = filedata.read()\n",
    "                        title_file = search_results_buttons[current_index]['href'][search_results_buttons[current_index]['href'].rfind(\"/\"):]\n",
    "                        #print(title_file)\n",
    "                        #print(\"https://data.london.gov.uk\" + search_results_buttons[current_index]['href'])\n",
    "                        try:\n",
    "                            os.mkdir(\"../London_DataStore/\" + title_format)\n",
    "                        except OSError:\n",
    "                            time.sleep(1)\n",
    "                        try:\n",
    "                            with open(\"../London_DataStore/\" + title_format + title_file, 'wb') as f:\n",
    "                                f.write(datatowrite)              \n",
    "                            if widget_s3.value == True:   \n",
    "                                s3_client.upload_file(\"../London_DataStore/\" + title_format + title_file, \"uom.bioinformatics\", \"Demo/\" + title_format + title_file) \n",
    "                            if widget_local.value != True:\n",
    "                                shutil.rmtree(\"../London_DataStore/\" + title_format + title_file)\n",
    "                            print(\"File downloaded: \" + title_file + \" from \" + title_format)\n",
    "                        except:\n",
    "                            pass\n",
    "            else:\n",
    "                for current_file in tqdm_notebook(search_results_buttons, desc = \"Files\", leave = False):\n",
    "                    try:\n",
    "                        filedata = manager.urlopen('GET', url = \"https://data.london.gov.uk\" + current_file['href'], preload_content=False)\n",
    "                        datatowrite = filedata.read()\n",
    "                        title_file = current_file['href'][current_file['href'].rfind(\"/\"):]\n",
    "                        try:\n",
    "                            os.mkdir(\"../London_DataStore/\" + title_format)\n",
    "                        except OSError:\n",
    "                            time.sleep(1)\n",
    "                        try:\n",
    "                            with open(\"../London_DataStore/\" + title_format + title_file, 'wb') as f:\n",
    "                                f.write(datatowrite)\n",
    "                            if widget_s3.value == True:   \n",
    "                                s3_client.upload_file(\"../London_DataStore/\" + title_format + title_file, \"uom.bioinformatics\", \"Demo/\" + title_format + title_file)\n",
    "                            if widget_local.value != True:\n",
    "                                shutil.rmtree(\"../London_DataStore/\" + title_format + title_file)\n",
    "                            print(\"File downloaded: \" + title_file + \" from \" + title_format)\n",
    "                        except:\n",
    "                            pass\n",
    "                    except:\n",
    "                        pass\n",
    "    if widget_local.value != True:           \n",
    "        shutil.rmtree(\"../London_DataStore\")\n"
   ]
  },
  {
   "cell_type": "code",
   "execution_count": null,
   "metadata": {
    "scrolled": false
   },
   "outputs": [
    {
     "data": {
      "application/vnd.jupyter.widget-view+json": {
       "model_id": "06026750dced4130a87063b56d4dd822",
       "version_major": 2,
       "version_minor": 0
      },
      "text/plain": [
       "HBox(children=(IntProgress(value=0, description='Pages', max=11, style=ProgressStyle(description_width='initia…"
      ]
     },
     "metadata": {},
     "output_type": "display_data"
    },
    {
     "data": {
      "application/vnd.jupyter.widget-view+json": {
       "model_id": "659e3368b85d44baa389e6a952811c84",
       "version_major": 2,
       "version_minor": 0
      },
      "text/plain": [
       "HBox(children=(IntProgress(value=0, description='Resources', max=1, style=ProgressStyle(description_width='ini…"
      ]
     },
     "metadata": {},
     "output_type": "display_data"
    },
    {
     "data": {
      "application/vnd.jupyter.widget-view+json": {
       "model_id": "fad68343f5794e5fa723ad0a81ec6b31",
       "version_major": 2,
       "version_minor": 0
      },
      "text/plain": [
       "HBox(children=(IntProgress(value=0, description='Files', max=5, style=ProgressStyle(description_width='initial…"
      ]
     },
     "metadata": {},
     "output_type": "display_data"
    }
   ],
   "source": [
    "if widget_local.value == False and widget_s3.value == False:\n",
    "    printmd(\"**Please select a location to download the files.**\")\n",
    "else:\n",
    "    download_items(url_request, req_files = files_download, req_format = files_format_download)\n",
    "    printmd(\"**Finished downloading the files**\")"
   ]
  },
  {
   "cell_type": "code",
   "execution_count": null,
   "metadata": {},
   "outputs": [],
   "source": []
  }
 ],
 "metadata": {
  "kernelspec": {
   "display_name": "Python 3",
   "language": "python",
   "name": "python3"
  },
  "language_info": {
   "codemirror_mode": {
    "name": "ipython",
    "version": 3
   },
   "file_extension": ".py",
   "mimetype": "text/x-python",
   "name": "python",
   "nbconvert_exporter": "python",
   "pygments_lexer": "ipython3",
   "version": "3.7.4"
  }
 },
 "nbformat": 4,
 "nbformat_minor": 2
}
